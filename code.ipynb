{
 "cells": [
  {
   "cell_type": "code",
   "execution_count": 1,
   "id": "932b4b3a",
   "metadata": {},
   "outputs": [
    {
     "name": "stdout",
     "output_type": "stream",
     "text": [
      "Usuário ou senha incorretos\n"
     ]
    }
   ],
   "source": [
    "# Sprint 3 | Hospital Infantil Sabará | Code Nexus\n",
    "# Sistema de Cadastro de tratamentos\n",
    "\n",
    "\n",
    "# Login para acessar o sistema\n",
    "\n",
    "user = str(input('Digite o seu usuário: '))\n",
    "password = input('Digite a sua senha: ')\n",
    "\n",
    "if user == 'adm' and password == '123':\n",
    "  print('Bem vindo ao sistema :)')\n",
    "else:\n",
    "  print('Usuário ou senha incorretos')"
   ]
  },
  {
   "cell_type": "code",
   "execution_count": null,
   "id": "af6452c9",
   "metadata": {},
   "outputs": [],
   "source": [
    "# Cadastro de tratamentos\n",
    "\n",
    "tratamentos_cadastrados = []\n",
    "\n",
    "def cadastrar_novos_tratamentos():\n",
    "  opcao = 0\n",
    "\n",
    "  while opcao != 5:\n",
    "    print('*' * 20)\n",
    "    print('\\nDigite 1 para cadastrar um novo tratamento')\n",
    "    print('\\nDigite 2 para editar um tratamento existente')\n",
    "    print('\\nDigite 3 para remover um tratamento')\n",
    "    print('\\nDigite 4 para listar todos os tratamentos')\n",
    "    print('\\nDigite 5 para sair')\n",
    "    print('*' * 20)\n",
    "    opcao = int(input('Digite a opção desejada: '))\n",
    "\n",
    "    if opcao == 1:\n",
    "      print('\\nVocê escolheu cadastrar um novo tratamento.')\n",
    "      nome = input('Digite o nome do novo tratamento: ')\n",
    "      remedio = input('Digite o remédio do tratamento: ')\n",
    "      novo_tratamento = {'nome': nome, 'remedio': remedio}\n",
    "\n",
    "      if novo_tratamento not in tratamentos_cadastrados:\n",
    "          tratamentos_cadastrados.append(novo_tratamento)\n",
    "          print('Tratamento cadastrado com sucesso!')\n",
    "      else:\n",
    "          print('Tratamento já cadastrado.')\n",
    "\n",
    "    elif opcao == 2:\n",
    "      print('Você escolheu editar um tratamento existente')\n",
    "      for tratamento in tratamentos_cadastrados:\n",
    "        print(f'Escolha um tratamento para editar: {tratamento}')\n",
    "\n",
    "    elif opcao == 3:\n",
    "      print('Você escolheu remover um tratamento')\n",
    "      for tratamento in tratamentos_cadastrados:\n",
    "        print(f'Escolha um tratamento para remover: {tratamento}')\n",
    "\n",
    "    elif opcao == 4:\n",
    "      print('\\nVocê escolheu listar todos os tratamentos.')\n",
    "      if tratamentos_cadastrados:\n",
    "        for i, tratamento in enumerate(tratamentos_cadastrados):\n",
    "          print(f\"{i + 1}. Nome: {tratamento['nome']} | Remédio: {tratamento['remedio']}\")\n",
    "      else:\n",
    "          print('Nenhum tratamento cadastrado.')\n",
    "\n",
    "    elif opcao == 5:\n",
    "      print('Você escolheu sair')\n",
    "\n",
    "    else:\n",
    "      print('Opção inválida')\n",
    "\n",
    "cadastrar_novos_tratamentos()"
   ]
  }
 ],
 "metadata": {
  "kernelspec": {
   "display_name": "Python 3",
   "language": "python",
   "name": "python3"
  },
  "language_info": {
   "codemirror_mode": {
    "name": "ipython",
    "version": 3
   },
   "file_extension": ".py",
   "mimetype": "text/x-python",
   "name": "python",
   "nbconvert_exporter": "python",
   "pygments_lexer": "ipython3",
   "version": "3.12.9"
  }
 },
 "nbformat": 4,
 "nbformat_minor": 5
}
